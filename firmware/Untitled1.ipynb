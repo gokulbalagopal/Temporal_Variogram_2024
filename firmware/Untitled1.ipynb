{
 "cells": [
  {
   "cell_type": "code",
   "execution_count": 6,
   "id": "7cd55a74-aa74-47ba-b771-8b0065c5d755",
   "metadata": {},
   "outputs": [
    {
     "name": "stdout",
     "output_type": "stream",
     "text": [
      "Requirement already satisfied: cdsapi in c:\\users\\balag\\anaconda3\\envs\\variogram\\lib\\site-packages (0.6.1)\n",
      "Requirement already satisfied: requests>=2.5.0 in c:\\users\\balag\\anaconda3\\envs\\variogram\\lib\\site-packages (from cdsapi) (2.31.0)\n",
      "Requirement already satisfied: tqdm in c:\\users\\balag\\anaconda3\\envs\\variogram\\lib\\site-packages (from cdsapi) (4.66.1)\n",
      "Requirement already satisfied: charset-normalizer<4,>=2 in c:\\users\\balag\\anaconda3\\envs\\variogram\\lib\\site-packages (from requests>=2.5.0->cdsapi) (3.3.2)\n",
      "Requirement already satisfied: idna<4,>=2.5 in c:\\users\\balag\\anaconda3\\envs\\variogram\\lib\\site-packages (from requests>=2.5.0->cdsapi) (3.6)\n",
      "Requirement already satisfied: urllib3<3,>=1.21.1 in c:\\users\\balag\\anaconda3\\envs\\variogram\\lib\\site-packages (from requests>=2.5.0->cdsapi) (2.1.0)\n",
      "Requirement already satisfied: certifi>=2017.4.17 in c:\\users\\balag\\anaconda3\\envs\\variogram\\lib\\site-packages (from requests>=2.5.0->cdsapi) (2023.11.17)\n",
      "Requirement already satisfied: colorama in c:\\users\\balag\\anaconda3\\envs\\variogram\\lib\\site-packages (from tqdm->cdsapi) (0.4.6)\n",
      "Requirement already satisfied: cfgrib in c:\\users\\balag\\anaconda3\\envs\\variogram\\lib\\site-packages (0.9.10.4)\n",
      "Requirement already satisfied: attrs>=19.2 in c:\\users\\balag\\anaconda3\\envs\\variogram\\lib\\site-packages (from cfgrib) (23.1.0)\n",
      "Requirement already satisfied: click in c:\\users\\balag\\anaconda3\\envs\\variogram\\lib\\site-packages (from cfgrib) (8.1.7)\n",
      "Requirement already satisfied: eccodes>=0.9.8 in c:\\users\\balag\\anaconda3\\envs\\variogram\\lib\\site-packages (from cfgrib) (1.6.1)\n",
      "Requirement already satisfied: numpy in c:\\users\\balag\\anaconda3\\envs\\variogram\\lib\\site-packages (from cfgrib) (1.26.2)\n",
      "Requirement already satisfied: cffi in c:\\users\\balag\\anaconda3\\envs\\variogram\\lib\\site-packages (from eccodes>=0.9.8->cfgrib) (1.16.0)\n",
      "Requirement already satisfied: findlibs in c:\\users\\balag\\anaconda3\\envs\\variogram\\lib\\site-packages (from eccodes>=0.9.8->cfgrib) (0.0.5)\n",
      "Requirement already satisfied: colorama in c:\\users\\balag\\anaconda3\\envs\\variogram\\lib\\site-packages (from click->cfgrib) (0.4.6)\n",
      "Requirement already satisfied: pycparser in c:\\users\\balag\\anaconda3\\envs\\variogram\\lib\\site-packages (from cffi->eccodes>=0.9.8->cfgrib) (2.21)\n",
      "Collecting eccodes==1.2.0\n",
      "  Downloading eccodes-1.2.0-py3-none-any.whl (46 kB)\n",
      "     ---------------------------------------- 0.0/46.6 kB ? eta -:--:--\n",
      "     ---------------- --------------------- 20.5/46.6 kB 330.3 kB/s eta 0:00:01\n",
      "     -------------------------------------- 46.6/46.6 kB 387.1 kB/s eta 0:00:00\n",
      "Requirement already satisfied: attrs in c:\\users\\balag\\anaconda3\\envs\\variogram\\lib\\site-packages (from eccodes==1.2.0) (23.1.0)\n",
      "Requirement already satisfied: cffi in c:\\users\\balag\\anaconda3\\envs\\variogram\\lib\\site-packages (from eccodes==1.2.0) (1.16.0)\n",
      "Requirement already satisfied: numpy in c:\\users\\balag\\anaconda3\\envs\\variogram\\lib\\site-packages (from eccodes==1.2.0) (1.26.2)\n",
      "Requirement already satisfied: pycparser in c:\\users\\balag\\anaconda3\\envs\\variogram\\lib\\site-packages (from cffi->eccodes==1.2.0) (2.21)\n",
      "Installing collected packages: eccodes\n",
      "  Attempting uninstall: eccodes\n",
      "    Found existing installation: eccodes 1.6.1\n",
      "    Uninstalling eccodes-1.6.1:\n",
      "      Successfully uninstalled eccodes-1.6.1\n",
      "Successfully installed eccodes-1.2.0\n"
     ]
    }
   ],
   "source": [
    "!pip install cdsapi\n",
    "!pip install cfgrib\n",
    "!pip install eccodes==1.2.0"
   ]
  },
  {
   "cell_type": "code",
   "execution_count": 5,
   "id": "0a1489cd-5cd5-4878-aece-a622a9045678",
   "metadata": {},
   "outputs": [
    {
     "name": "stderr",
     "output_type": "stream",
     "text": [
      "2023-11-28 12:01:40,476 INFO Welcome to the CDS\n",
      "2023-11-28 12:01:40,479 INFO Sending request to https://cds.climate.copernicus.eu/api/v2/resources/reanalysis-era5-pressure-levels\n",
      "2023-11-28 12:01:40,677 INFO Request is queued\n",
      "2023-11-28 12:03:35,507 INFO Request is running\n",
      "2023-11-28 12:12:04,092 INFO Request is completed\n",
      "2023-11-28 12:12:04,095 INFO Downloading https://download-0019.copernicus-climate.eu/cache-compute-0019/cache/data0/adaptor.mars.internal-1701194594.8747616-23041-8-2c1e97b3-da15-4e66-8f6c-ca9e4ae5604f.grib to download.grib (919.1K)\n",
      "2023-11-28 12:12:06,390 INFO Download rate 400.9K/s                                                                    \n"
     ]
    },
    {
     "data": {
      "text/plain": [
       "Result(content_length=941160,content_type=application/x-grib,location=https://download-0019.copernicus-climate.eu/cache-compute-0019/cache/data0/adaptor.mars.internal-1701194594.8747616-23041-8-2c1e97b3-da15-4e66-8f6c-ca9e4ae5604f.grib)"
      ]
     },
     "execution_count": 5,
     "metadata": {},
     "output_type": "execute_result"
    }
   ],
   "source": [
    "# import cdsapi\n",
    "\n",
    "# c = cdsapi.Client()\n",
    "\n",
    "# c.retrieve(\n",
    "#     'reanalysis-era5-pressure-levels',\n",
    "#     {\n",
    "#         'product_type': 'reanalysis',\n",
    "#         'variable': 'specific_rain_water_content',\n",
    "#         'pressure_level': '1000',\n",
    "#         'year': '2023',\n",
    "#         'month': [\n",
    "#             '01', '02', '03',\n",
    "#             '04', '05', '06',\n",
    "#             '07', '08', '09',\n",
    "#             '10', '11',\n",
    "#         ],\n",
    "#         'day': [\n",
    "#             '01', '02', '03',\n",
    "#             '04', '05', '06',\n",
    "#             '07', '08', '09',\n",
    "#             '10', '11', '12',\n",
    "#             '13', '14', '15',\n",
    "#             '16', '17', '18',\n",
    "#             '19', '20', '21',\n",
    "#             '22', '23', '24',\n",
    "#             '25', '26', '27',\n",
    "#             '28', '29', '30',\n",
    "#             '31',\n",
    "#         ],\n",
    "#         'time': [\n",
    "#             '00:00', '01:00', '02:00',\n",
    "#             '03:00', '04:00', '05:00',\n",
    "#             '06:00', '07:00', '08:00',\n",
    "#             '09:00', '10:00', '11:00',\n",
    "#             '12:00', '13:00', '14:00',\n",
    "#             '15:00', '16:00', '17:00',\n",
    "#             '18:00', '19:00', '20:00',\n",
    "#             '21:00', '22:00', '23:00',\n",
    "#         ],\n",
    "#         'area': [\n",
    "#             32.75, -96.75, 32.74,\n",
    "#             -96.74,\n",
    "#         ],\n",
    "#         'format': 'grib',\n",
    "#     },\n",
    "#     'download.grib')"
   ]
  },
  {
   "cell_type": "code",
   "execution_count": 7,
   "id": "6dc6e235-1c59-494a-b228-09771ea67a7b",
   "metadata": {},
   "outputs": [
    {
     "ename": "RuntimeError",
     "evalue": "ecCodes library not found using ['  C:\\\\Users\\\\balag\\\\anaconda3\\\\envs\\\\variogram\\\\Lib\\\\site-packages\\\\lib/libeccodes.so', '  C:\\\\Users\\\\balag\\\\anaconda3\\\\envs\\\\variogram\\\\Lib\\\\site-packages\\\\lib64/libeccodes.so', 'eccodes', 'libeccodes.so', 'libeccodes']",
     "output_type": "error",
     "traceback": [
      "\u001b[1;31m---------------------------------------------------------------------------\u001b[0m",
      "\u001b[1;31mModuleNotFoundError\u001b[0m                       Traceback (most recent call last)",
      "File \u001b[1;32m~\\anaconda3\\envs\\variogram\\Lib\\site-packages\\gribapi\\bindings.py:29\u001b[0m\n\u001b[0;32m     28\u001b[0m \u001b[38;5;28;01mtry\u001b[39;00m:\n\u001b[1;32m---> 29\u001b[0m     \u001b[38;5;28;01mfrom\u001b[39;00m \u001b[38;5;21;01m.\u001b[39;00m\u001b[38;5;21;01m_bindings\u001b[39;00m \u001b[38;5;28;01mimport\u001b[39;00m ffi, lib\n\u001b[0;32m     30\u001b[0m \u001b[38;5;28;01mexcept\u001b[39;00m \u001b[38;5;167;01mModuleNotFoundError\u001b[39;00m:\n",
      "\u001b[1;31mModuleNotFoundError\u001b[0m: No module named 'gribapi._bindings'",
      "\nDuring handling of the above exception, another exception occurred:\n",
      "\u001b[1;31mRuntimeError\u001b[0m                              Traceback (most recent call last)",
      "Cell \u001b[1;32mIn[7], line 1\u001b[0m\n\u001b[1;32m----> 1\u001b[0m \u001b[38;5;28;01mimport\u001b[39;00m \u001b[38;5;21;01mcfgrib\u001b[39;00m\n\u001b[0;32m      2\u001b[0m \u001b[38;5;28;01mimport\u001b[39;00m \u001b[38;5;21;01mxarray\u001b[39;00m\n\u001b[0;32m      4\u001b[0m grib_data \u001b[38;5;241m=\u001b[39m xarray\u001b[38;5;241m.\u001b[39mopen_dataset(\u001b[38;5;124m'\u001b[39m\u001b[38;5;124mD:/UTD/UTDFall2023/Temporal_Variograms/firmware/data/adaptor.mars.internal-1701194594.8747616-23041-8-2c1e97b3-da15-4e66-8f6c-ca9e4ae5604f.grib\u001b[39m\u001b[38;5;124m'\u001b[39m, engine\u001b[38;5;241m=\u001b[39m\u001b[38;5;124m'\u001b[39m\u001b[38;5;124mcfgrib\u001b[39m\u001b[38;5;124m'\u001b[39m, backend_kwargs\u001b[38;5;241m=\u001b[39m{\u001b[38;5;124m'\u001b[39m\u001b[38;5;124mfilter_by_keys\u001b[39m\u001b[38;5;124m'\u001b[39m:{\u001b[38;5;124m'\u001b[39m\u001b[38;5;124mtypeOfLevel\u001b[39m\u001b[38;5;124m'\u001b[39m: \u001b[38;5;124m'\u001b[39m\u001b[38;5;124mheightAboveGround\u001b[39m\u001b[38;5;124m'\u001b[39m,\u001b[38;5;124m'\u001b[39m\u001b[38;5;124mlevel\u001b[39m\u001b[38;5;124m'\u001b[39m: \u001b[38;5;241m2\u001b[39m}})\n",
      "File \u001b[1;32m~\\anaconda3\\envs\\variogram\\Lib\\site-packages\\cfgrib\\__init__.py:20\u001b[0m\n\u001b[0;32m     18\u001b[0m \u001b[38;5;66;03m# cfgrib core API depends on the ECMWF ecCodes C-library only\u001b[39;00m\n\u001b[0;32m     19\u001b[0m \u001b[38;5;28;01mfrom\u001b[39;00m \u001b[38;5;21;01m.\u001b[39;00m\u001b[38;5;21;01mabc\u001b[39;00m \u001b[38;5;28;01mimport\u001b[39;00m Field, Fieldset, Index, MappingFieldset\n\u001b[1;32m---> 20\u001b[0m \u001b[38;5;28;01mfrom\u001b[39;00m \u001b[38;5;21;01m.\u001b[39;00m\u001b[38;5;21;01mcfmessage\u001b[39;00m \u001b[38;5;28;01mimport\u001b[39;00m COMPUTED_KEYS\n\u001b[0;32m     21\u001b[0m \u001b[38;5;28;01mfrom\u001b[39;00m \u001b[38;5;21;01m.\u001b[39;00m\u001b[38;5;21;01mdataset\u001b[39;00m \u001b[38;5;28;01mimport\u001b[39;00m (\n\u001b[0;32m     22\u001b[0m     Dataset,\n\u001b[0;32m     23\u001b[0m     DatasetBuildError,\n\u001b[1;32m   (...)\u001b[0m\n\u001b[0;32m     27\u001b[0m     open_from_index,\n\u001b[0;32m     28\u001b[0m )\n\u001b[0;32m     29\u001b[0m \u001b[38;5;28;01mfrom\u001b[39;00m \u001b[38;5;21;01m.\u001b[39;00m\u001b[38;5;21;01mmessages\u001b[39;00m \u001b[38;5;28;01mimport\u001b[39;00m FieldsetIndex, FileStream, Message\n",
      "File \u001b[1;32m~\\anaconda3\\envs\\variogram\\Lib\\site-packages\\cfgrib\\cfmessage.py:29\u001b[0m\n\u001b[0;32m     26\u001b[0m \u001b[38;5;28;01mimport\u001b[39;00m \u001b[38;5;21;01mattr\u001b[39;00m\n\u001b[0;32m     27\u001b[0m \u001b[38;5;28;01mimport\u001b[39;00m \u001b[38;5;21;01mnumpy\u001b[39;00m \u001b[38;5;28;01mas\u001b[39;00m \u001b[38;5;21;01mnp\u001b[39;00m\n\u001b[1;32m---> 29\u001b[0m \u001b[38;5;28;01mfrom\u001b[39;00m \u001b[38;5;21;01m.\u001b[39;00m \u001b[38;5;28;01mimport\u001b[39;00m abc, messages\n\u001b[0;32m     31\u001b[0m LOG \u001b[38;5;241m=\u001b[39m logging\u001b[38;5;241m.\u001b[39mgetLogger(\u001b[38;5;18m__name__\u001b[39m)\n\u001b[0;32m     33\u001b[0m \u001b[38;5;66;03m# taken from eccodes stepUnits.table\u001b[39;00m\n",
      "File \u001b[1;32m~\\anaconda3\\envs\\variogram\\Lib\\site-packages\\cfgrib\\messages.py:28\u001b[0m\n\u001b[0;32m     25\u001b[0m \u001b[38;5;28;01mimport\u001b[39;00m \u001b[38;5;21;01mtyping\u001b[39;00m \u001b[38;5;28;01mas\u001b[39;00m \u001b[38;5;21;01mT\u001b[39;00m\n\u001b[0;32m     27\u001b[0m \u001b[38;5;28;01mimport\u001b[39;00m \u001b[38;5;21;01mattr\u001b[39;00m\n\u001b[1;32m---> 28\u001b[0m \u001b[38;5;28;01mimport\u001b[39;00m \u001b[38;5;21;01meccodes\u001b[39;00m  \u001b[38;5;66;03m# type: ignore\u001b[39;00m\n\u001b[0;32m     29\u001b[0m \u001b[38;5;28;01mimport\u001b[39;00m \u001b[38;5;21;01mnumpy\u001b[39;00m \u001b[38;5;28;01mas\u001b[39;00m \u001b[38;5;21;01mnp\u001b[39;00m\n\u001b[0;32m     31\u001b[0m \u001b[38;5;28;01mfrom\u001b[39;00m \u001b[38;5;21;01m.\u001b[39;00m \u001b[38;5;28;01mimport\u001b[39;00m abc\n",
      "File \u001b[1;32m~\\anaconda3\\envs\\variogram\\Lib\\site-packages\\eccodes\\__init__.py:15\u001b[0m\n\u001b[0;32m     12\u001b[0m \u001b[38;5;28;01mfrom\u001b[39;00m \u001b[38;5;21;01m__future__\u001b[39;00m \u001b[38;5;28;01mimport\u001b[39;00m absolute_import\n\u001b[0;32m     13\u001b[0m \u001b[38;5;28;01mimport\u001b[39;00m \u001b[38;5;21;01msys\u001b[39;00m\n\u001b[1;32m---> 15\u001b[0m \u001b[38;5;28;01mfrom\u001b[39;00m \u001b[38;5;21;01m.\u001b[39;00m\u001b[38;5;21;01meccodes\u001b[39;00m \u001b[38;5;28;01mimport\u001b[39;00m \u001b[38;5;241m*\u001b[39m\n\u001b[0;32m     16\u001b[0m \u001b[38;5;28;01mfrom\u001b[39;00m \u001b[38;5;21;01m.\u001b[39;00m\u001b[38;5;21;01meccodes\u001b[39;00m \u001b[38;5;28;01mimport\u001b[39;00m __version__\n\u001b[0;32m     17\u001b[0m \u001b[38;5;28;01mfrom\u001b[39;00m \u001b[38;5;21;01m.\u001b[39;00m\u001b[38;5;21;01meccodes\u001b[39;00m \u001b[38;5;28;01mimport\u001b[39;00m bindings_version\n",
      "File \u001b[1;32m~\\anaconda3\\envs\\variogram\\Lib\\site-packages\\eccodes\\eccodes.py:12\u001b[0m\n\u001b[0;32m      1\u001b[0m \u001b[38;5;66;03m#\u001b[39;00m\n\u001b[0;32m      2\u001b[0m \u001b[38;5;66;03m# (C) Copyright 2017- ECMWF.\u001b[39;00m\n\u001b[0;32m      3\u001b[0m \u001b[38;5;66;03m#\u001b[39;00m\n\u001b[1;32m   (...)\u001b[0m\n\u001b[0;32m     10\u001b[0m \u001b[38;5;66;03m#\u001b[39;00m\n\u001b[0;32m     11\u001b[0m \u001b[38;5;66;03m#\u001b[39;00m\n\u001b[1;32m---> 12\u001b[0m \u001b[38;5;28;01mfrom\u001b[39;00m \u001b[38;5;21;01mgribapi\u001b[39;00m \u001b[38;5;28;01mimport\u001b[39;00m __version__\n\u001b[0;32m     13\u001b[0m \u001b[38;5;28;01mfrom\u001b[39;00m \u001b[38;5;21;01mgribapi\u001b[39;00m \u001b[38;5;28;01mimport\u001b[39;00m bindings_version\n\u001b[0;32m     15\u001b[0m \u001b[38;5;28;01mfrom\u001b[39;00m \u001b[38;5;21;01mgribapi\u001b[39;00m \u001b[38;5;28;01mimport\u001b[39;00m GRIB_CHECK \u001b[38;5;28;01mas\u001b[39;00m CODES_CHECK\n",
      "File \u001b[1;32m~\\anaconda3\\envs\\variogram\\Lib\\site-packages\\gribapi\\__init__.py:13\u001b[0m\n\u001b[0;32m      1\u001b[0m \u001b[38;5;66;03m#\u001b[39;00m\n\u001b[0;32m      2\u001b[0m \u001b[38;5;66;03m# (C) Copyright 2017- ECMWF.\u001b[39;00m\n\u001b[0;32m      3\u001b[0m \u001b[38;5;66;03m#\u001b[39;00m\n\u001b[1;32m   (...)\u001b[0m\n\u001b[0;32m     10\u001b[0m \u001b[38;5;66;03m#\u001b[39;00m\n\u001b[0;32m     11\u001b[0m \u001b[38;5;66;03m#\u001b[39;00m\n\u001b[1;32m---> 13\u001b[0m \u001b[38;5;28;01mfrom\u001b[39;00m \u001b[38;5;21;01m.\u001b[39;00m\u001b[38;5;21;01mgribapi\u001b[39;00m \u001b[38;5;28;01mimport\u001b[39;00m \u001b[38;5;241m*\u001b[39m  \u001b[38;5;66;03m# noqa\u001b[39;00m\n\u001b[0;32m     14\u001b[0m \u001b[38;5;28;01mfrom\u001b[39;00m \u001b[38;5;21;01m.\u001b[39;00m\u001b[38;5;21;01mgribapi\u001b[39;00m \u001b[38;5;28;01mimport\u001b[39;00m __version__\n\u001b[0;32m     15\u001b[0m \u001b[38;5;28;01mfrom\u001b[39;00m \u001b[38;5;21;01m.\u001b[39;00m\u001b[38;5;21;01mgribapi\u001b[39;00m \u001b[38;5;28;01mimport\u001b[39;00m bindings_version\n",
      "File \u001b[1;32m~\\anaconda3\\envs\\variogram\\Lib\\site-packages\\gribapi\\gribapi.py:32\u001b[0m\n\u001b[0;32m     29\u001b[0m \u001b[38;5;28;01mimport\u001b[39;00m \u001b[38;5;21;01mos\u001b[39;00m\n\u001b[0;32m     30\u001b[0m \u001b[38;5;28;01mimport\u001b[39;00m \u001b[38;5;21;01mnumpy\u001b[39;00m \u001b[38;5;28;01mas\u001b[39;00m \u001b[38;5;21;01mnp\u001b[39;00m\n\u001b[1;32m---> 32\u001b[0m \u001b[38;5;28;01mfrom\u001b[39;00m \u001b[38;5;21;01m.\u001b[39;00m\u001b[38;5;21;01mbindings\u001b[39;00m \u001b[38;5;28;01mimport\u001b[39;00m ENC, ffi, lib\n\u001b[0;32m     33\u001b[0m \u001b[38;5;28;01mfrom\u001b[39;00m \u001b[38;5;21;01m.\u001b[39;00m\u001b[38;5;21;01mbindings\u001b[39;00m \u001b[38;5;28;01mimport\u001b[39;00m __version__ \u001b[38;5;28;01mas\u001b[39;00m bindings_version  \u001b[38;5;66;03m# noqa\u001b[39;00m\n\u001b[0;32m     34\u001b[0m \u001b[38;5;28;01mfrom\u001b[39;00m \u001b[38;5;21;01m.\u001b[39;00m \u001b[38;5;28;01mimport\u001b[39;00m errors\n",
      "File \u001b[1;32m~\\anaconda3\\envs\\variogram\\Lib\\site-packages\\gribapi\\bindings.py:60\u001b[0m\n\u001b[0;32m     58\u001b[0m             \u001b[38;5;28;01mpass\u001b[39;00m\n\u001b[0;32m     59\u001b[0m     \u001b[38;5;28;01mif\u001b[39;00m lib \u001b[38;5;129;01mis\u001b[39;00m \u001b[38;5;28;01mNone\u001b[39;00m:\n\u001b[1;32m---> 60\u001b[0m         \u001b[38;5;28;01mraise\u001b[39;00m \u001b[38;5;167;01mRuntimeError\u001b[39;00m(\u001b[38;5;124mf\u001b[39m\u001b[38;5;124m\"\u001b[39m\u001b[38;5;124mecCodes library not found using \u001b[39m\u001b[38;5;132;01m{\u001b[39;00mLIBNAMES\u001b[38;5;132;01m}\u001b[39;00m\u001b[38;5;124m\"\u001b[39m)\n\u001b[0;32m     62\u001b[0m \u001b[38;5;66;03m# default encoding for ecCodes strings\u001b[39;00m\n\u001b[0;32m     63\u001b[0m ENC \u001b[38;5;241m=\u001b[39m \u001b[38;5;124m\"\u001b[39m\u001b[38;5;124mascii\u001b[39m\u001b[38;5;124m\"\u001b[39m\n",
      "\u001b[1;31mRuntimeError\u001b[0m: ecCodes library not found using ['  C:\\\\Users\\\\balag\\\\anaconda3\\\\envs\\\\variogram\\\\Lib\\\\site-packages\\\\lib/libeccodes.so', '  C:\\\\Users\\\\balag\\\\anaconda3\\\\envs\\\\variogram\\\\Lib\\\\site-packages\\\\lib64/libeccodes.so', 'eccodes', 'libeccodes.so', 'libeccodes']"
     ]
    }
   ],
   "source": [
    "import cfgrib\n",
    "import xarray\n",
    "\n",
    "grib_data = xarray.open_dataset('D:/UTD/UTDFall2023/Temporal_Variograms/firmware/data/adaptor.mars.internal-1701194594.8747616-23041-8-2c1e97b3-da15-4e66-8f6c-ca9e4ae5604f.grib', engine='cfgrib', backend_kwargs={'filter_by_keys':{'typeOfLevel': 'heightAboveGround','level': 2}})"
   ]
  },
  {
   "cell_type": "code",
   "execution_count": 8,
   "id": "fe945a27-76f8-48de-b2e9-389c142b9475",
   "metadata": {},
   "outputs": [
    {
     "name": "stdout",
     "output_type": "stream",
     "text": [
      "Name: eccodes\n",
      "Version: 1.2.0\n",
      "Summary: Python interface to the ecCodes GRIB and BUFR decoder/encoder\n",
      "Home-page: https://github.com/ecmwf/eccodes-python\n",
      "Author: European Centre for Medium-Range Weather Forecasts (ECMWF)\n",
      "Author-email: software.support@ecmwf.int\n",
      "License: Apache License Version 2.0\n",
      "Location: C:\\Users\\balag\\anaconda3\\envs\\variogram\\Lib\\site-packages\n",
      "Requires: attrs, cffi, numpy\n",
      "Required-by: cfgrib\n"
     ]
    }
   ],
   "source": [
    "!pip show eccodes"
   ]
  },
  {
   "cell_type": "code",
   "execution_count": null,
   "id": "9e651a09-4651-4626-9fd2-61c7ebe91c17",
   "metadata": {},
   "outputs": [],
   "source": [
    "# Get the data from the GRIB file\n",
    "data = grib_file.read()\n",
    "\n",
    "# Convert the data to a Pandas DataFrame\n",
    "df = pd.DataFrame(data)\n",
    "\n",
    "# Save the DataFrame to a CSV file\n",
    "df.to_csv(\"path/to/csv/file.csv\", index=False)"
   ]
  }
 ],
 "metadata": {
  "kernelspec": {
   "display_name": "Python 3 (ipykernel)",
   "language": "python",
   "name": "python3"
  },
  "language_info": {
   "codemirror_mode": {
    "name": "ipython",
    "version": 3
   },
   "file_extension": ".py",
   "mimetype": "text/x-python",
   "name": "python",
   "nbconvert_exporter": "python",
   "pygments_lexer": "ipython3",
   "version": "3.12.0"
  }
 },
 "nbformat": 4,
 "nbformat_minor": 5
}
