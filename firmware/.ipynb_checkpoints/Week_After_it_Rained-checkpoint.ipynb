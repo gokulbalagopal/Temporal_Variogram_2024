{
 "cells": [
  {
   "cell_type": "code",
   "execution_count": 37,
   "id": "a3195a5a-6663-4fd6-b4a7-018d8f624acc",
   "metadata": {},
   "outputs": [
    {
     "name": "stdout",
     "output_type": "stream",
     "text": [
      "Requirement already satisfied: seaborn in c:\\users\\balag\\anaconda3\\envs\\variogram\\lib\\site-packages (0.13.0)\n",
      "Requirement already satisfied: numpy!=1.24.0,>=1.20 in c:\\users\\balag\\anaconda3\\envs\\variogram\\lib\\site-packages (from seaborn) (1.26.2)\n",
      "Requirement already satisfied: pandas>=1.2 in c:\\users\\balag\\anaconda3\\envs\\variogram\\lib\\site-packages (from seaborn) (2.1.3)\n",
      "Requirement already satisfied: matplotlib!=3.6.1,>=3.3 in c:\\users\\balag\\anaconda3\\envs\\variogram\\lib\\site-packages (from seaborn) (3.8.2)\n",
      "Requirement already satisfied: contourpy>=1.0.1 in c:\\users\\balag\\anaconda3\\envs\\variogram\\lib\\site-packages (from matplotlib!=3.6.1,>=3.3->seaborn) (1.2.0)\n",
      "Requirement already satisfied: cycler>=0.10 in c:\\users\\balag\\anaconda3\\envs\\variogram\\lib\\site-packages (from matplotlib!=3.6.1,>=3.3->seaborn) (0.12.1)\n",
      "Requirement already satisfied: fonttools>=4.22.0 in c:\\users\\balag\\anaconda3\\envs\\variogram\\lib\\site-packages (from matplotlib!=3.6.1,>=3.3->seaborn) (4.45.1)\n",
      "Requirement already satisfied: kiwisolver>=1.3.1 in c:\\users\\balag\\anaconda3\\envs\\variogram\\lib\\site-packages (from matplotlib!=3.6.1,>=3.3->seaborn) (1.4.5)\n",
      "Requirement already satisfied: packaging>=20.0 in c:\\users\\balag\\anaconda3\\envs\\variogram\\lib\\site-packages (from matplotlib!=3.6.1,>=3.3->seaborn) (23.2)\n",
      "Requirement already satisfied: pillow>=8 in c:\\users\\balag\\anaconda3\\envs\\variogram\\lib\\site-packages (from matplotlib!=3.6.1,>=3.3->seaborn) (10.1.0)\n",
      "Requirement already satisfied: pyparsing>=2.3.1 in c:\\users\\balag\\anaconda3\\envs\\variogram\\lib\\site-packages (from matplotlib!=3.6.1,>=3.3->seaborn) (3.1.1)\n",
      "Requirement already satisfied: python-dateutil>=2.7 in c:\\users\\balag\\anaconda3\\envs\\variogram\\lib\\site-packages (from matplotlib!=3.6.1,>=3.3->seaborn) (2.8.2)\n",
      "Requirement already satisfied: pytz>=2020.1 in c:\\users\\balag\\anaconda3\\envs\\variogram\\lib\\site-packages (from pandas>=1.2->seaborn) (2023.3.post1)\n",
      "Requirement already satisfied: tzdata>=2022.1 in c:\\users\\balag\\anaconda3\\envs\\variogram\\lib\\site-packages (from pandas>=1.2->seaborn) (2023.3)\n",
      "Requirement already satisfied: six>=1.5 in c:\\users\\balag\\anaconda3\\envs\\variogram\\lib\\site-packages (from python-dateutil>=2.7->matplotlib!=3.6.1,>=3.3->seaborn) (1.16.0)\n",
      "Requirement already satisfied: matplotlib in c:\\users\\balag\\anaconda3\\envs\\variogram\\lib\\site-packages (3.8.2)\n",
      "Requirement already satisfied: contourpy>=1.0.1 in c:\\users\\balag\\anaconda3\\envs\\variogram\\lib\\site-packages (from matplotlib) (1.2.0)\n",
      "Requirement already satisfied: cycler>=0.10 in c:\\users\\balag\\anaconda3\\envs\\variogram\\lib\\site-packages (from matplotlib) (0.12.1)\n",
      "Requirement already satisfied: fonttools>=4.22.0 in c:\\users\\balag\\anaconda3\\envs\\variogram\\lib\\site-packages (from matplotlib) (4.45.1)\n",
      "Requirement already satisfied: kiwisolver>=1.3.1 in c:\\users\\balag\\anaconda3\\envs\\variogram\\lib\\site-packages (from matplotlib) (1.4.5)\n",
      "Requirement already satisfied: numpy<2,>=1.21 in c:\\users\\balag\\anaconda3\\envs\\variogram\\lib\\site-packages (from matplotlib) (1.26.2)\n",
      "Requirement already satisfied: packaging>=20.0 in c:\\users\\balag\\anaconda3\\envs\\variogram\\lib\\site-packages (from matplotlib) (23.2)\n",
      "Requirement already satisfied: pillow>=8 in c:\\users\\balag\\anaconda3\\envs\\variogram\\lib\\site-packages (from matplotlib) (10.1.0)\n",
      "Requirement already satisfied: pyparsing>=2.3.1 in c:\\users\\balag\\anaconda3\\envs\\variogram\\lib\\site-packages (from matplotlib) (3.1.1)\n",
      "Requirement already satisfied: python-dateutil>=2.7 in c:\\users\\balag\\anaconda3\\envs\\variogram\\lib\\site-packages (from matplotlib) (2.8.2)\n",
      "Requirement already satisfied: six>=1.5 in c:\\users\\balag\\anaconda3\\envs\\variogram\\lib\\site-packages (from python-dateutil>=2.7->matplotlib) (1.16.0)\n",
      "^C\n",
      "Requirement already satisfied: pandas in c:\\users\\balag\\anaconda3\\envs\\variogram\\lib\\site-packages (2.1.3)\n",
      "Requirement already satisfied: numpy<2,>=1.26.0 in c:\\users\\balag\\anaconda3\\envs\\variogram\\lib\\site-packages (from pandas) (1.26.2)\n",
      "Requirement already satisfied: python-dateutil>=2.8.2 in c:\\users\\balag\\anaconda3\\envs\\variogram\\lib\\site-packages (from pandas) (2.8.2)\n",
      "Requirement already satisfied: pytz>=2020.1 in c:\\users\\balag\\anaconda3\\envs\\variogram\\lib\\site-packages (from pandas) (2023.3.post1)\n",
      "Requirement already satisfied: tzdata>=2022.1 in c:\\users\\balag\\anaconda3\\envs\\variogram\\lib\\site-packages (from pandas) (2023.3)\n",
      "Requirement already satisfied: six>=1.5 in c:\\users\\balag\\anaconda3\\envs\\variogram\\lib\\site-packages (from python-dateutil>=2.8.2->pandas) (1.16.0)\n",
      "^C\n"
     ]
    }
   ],
   "source": [
    "!pip install seaborn\n",
    "!pip install matplotlib\n",
    "!pip install pandas\n",
    "!pip install numpy"
   ]
  },
  {
   "cell_type": "code",
   "execution_count": 38,
   "id": "032f07c6-a0a9-446f-8405-c43ebb6a74d3",
   "metadata": {},
   "outputs": [],
   "source": [
    "import seaborn as sns\n",
    "import matplotlib.pyplot as plt\n",
    "import pandas as pd\n",
    "import numpy as np"
   ]
  },
  {
   "cell_type": "code",
   "execution_count": 39,
   "id": "a62c22d9-5da4-4634-8b6f-ee28068783be",
   "metadata": {},
   "outputs": [],
   "source": [
    "################## Highest Polluted Day ######################"
   ]
  },
  {
   "cell_type": "code",
   "execution_count": 40,
   "id": "80f937c4-c23d-468b-8b12-fad522893d35",
   "metadata": {},
   "outputs": [
    {
     "name": "stderr",
     "output_type": "stream",
     "text": [
      "\n",
      "KeyboardInterrupt\n",
      "\n"
     ]
    }
   ],
   "source": [
    "df1 = pd.read_csv(\"data/Parameters/pm2.5/2023-01-25.csv\")\n",
    "df2 = pd.read_csv(\"data/Parameters/pm2.5/2023-01-26.csv\")\n",
    "df3 = pd.read_csv(\"data/Parameters/pm2.5/2023-01-27.csv\")\n",
    "df4 = pd.read_csv(\"data/Parameters/pm2.5/2023-01-28.csv\")\n",
    "df5 = pd.read_csv(\"data/Parameters/pm2.5/2023-01-29.csv\")\n",
    "df6 = pd.read_csv(\"data/Parameters/pm2.5/2023-01-30.csv\")\n",
    "df7 = pd.read_csv(\"data/Parameters/pm2.5/2023-01-31.csv\")\n",
    "\n",
    "df1.x1 = df1.x1 * 60\n",
    "df2.x1 = df2.x1 * 60\n",
    "df3.x1 = df3.x1 * 60\n",
    "df4.x1 = df4.x1 * 60\n",
    "df5.x1 = df5.x1 * 60\n",
    "df6.x1 = df6.x1 * 60\n",
    "df7.x1 = df7.x1 * 60\n",
    "\n",
    "plt.figure(figsize=(10, 6))\n",
    "\n",
    "\n",
    "# Plot KDE using seaborn\n",
    "# Plot KDE using seaborn\n",
    "sns.histplot(data=df1, x='x1', kde = True, alpha =0.3, label='01/25/2023 (Cloudy)', color='blue')\n",
    "sns.histplot(data=df2, x='x1', kde = True, alpha =0.3, label='01/26/2023 (Mostly Sunny)', color='brown')\n",
    "sns.histplot(data=df3, x='x1', kde = True, alpha =0.3, label='01/27/2023 (Mostly Sunny)', color='black')\n",
    "sns.histplot(data=df4, x='x1', kde = True, alpha =0.3, label='01/28/2023 (Cloudy)', color='yellow')\n",
    "sns.histplot(data=df5, x='x1', kde = True, alpha =0.3, label='01/29/2023 (Cloudy)', color='green')\n",
    "sns.histplot(data=df6, x='x1', kde = True, alpha =0.3, label='01/30/2023 (Cloudy)', color='pink')\n",
    "sns.histplot(data=df7, x='x1', kde = True, alpha =0.3, label='01/31/2023 (Cloudy)', color='orange')\n",
    "plt.xlim(0, 90)\n",
    "plt.ylim(0, 8000)\n",
    "plt.xlabel('PM$_{2.5}$ Measurement Time (Seconds)')\n",
    "plt.ylabel('Frequency')\n",
    "plt.title('PDF of PM Measurement Time for the Week After it Rained (01/25/2023 - 01/31/2023)')\n",
    "plt.legend()\n",
    "plt.savefig(r\"D:\\UTD\\UTDFall2023\\Temporal_Variograms\\firmware\\plots\\Week_After_it_Rained(After_24th_Jan_23).png\")\n",
    "plt.show()"
   ]
  },
  {
   "cell_type": "code",
   "execution_count": null,
   "id": "1261bcf2-8a92-431c-9780-9a459ae93b48",
   "metadata": {},
   "outputs": [],
   "source": [
    "def peak_val(data):\n",
    "    # Remove pairs where x >= 90\n",
    "    filtered_list = [[x, y] for x, y in data if x < 90]\n",
    "\n",
    "    # print(filtered_list)\n",
    "    data = filtered_list\n",
    "    # Find the (x, y) pair with the maximum y value\n",
    "    max_y_pair = max(data, key=lambda pair: pair[1])\n",
    "    \n",
    "    print(f\"The (x, y) pair with the maximum y value is: {max_y_pair}\")\n",
    "    return max_y_pair\n"
   ]
  },
  {
   "cell_type": "code",
   "execution_count": null,
   "id": "36b5d285-93e4-4e76-abc5-5cd05f0bbcf8",
   "metadata": {},
   "outputs": [],
   "source": [
    "# Plot the probability density functions using kernel density estimates (KDE)\n",
    "ax1 = sns.histplot(data=df1, x='x1',alpha = 0.4,  kde = True, color =\"blue\")\n",
    "plt.xlim(0, 90)\n",
    "data_1 =  ax1.lines[0].get_xydata()\n",
    "peak_1 = peak_val(data_1)[0]"
   ]
  },
  {
   "cell_type": "code",
   "execution_count": null,
   "id": "5b77676d-9a20-4de0-aeb6-40166081d852",
   "metadata": {},
   "outputs": [],
   "source": [
    "# Plot the probability density functions using kernel density estimates (KDE)\n",
    "ax2 = sns.histplot(data=df2, x='x1',alpha = 0.4,  kde = True, color =\"brown\")\n",
    "plt.xlim(0, 90)\n",
    "data_2 =  ax2.lines[0].get_xydata()\n",
    "peak_2 = peak_val(data_2)[0]"
   ]
  },
  {
   "cell_type": "code",
   "execution_count": null,
   "id": "febee283-e586-457a-8a3a-dead1699aea5",
   "metadata": {},
   "outputs": [],
   "source": [
    "# Plot the probability density functions using kernel density estimates (KDE)\n",
    "ax3 = sns.histplot(data=df3, x='x1',alpha = 0.4,  kde = True, color =\"black\")\n",
    "plt.xlim(0, 90)\n",
    "data_3 =  ax3.lines[0].get_xydata()\n",
    "peak_3 = peak_val(data_3)[0]"
   ]
  },
  {
   "cell_type": "code",
   "execution_count": null,
   "id": "fdca5257-f4b3-4d74-8fb8-6f056b824c6b",
   "metadata": {},
   "outputs": [],
   "source": [
    "# Plot the probability density functions using kernel density estimates (KDE)\n",
    "ax4 = sns.histplot(data=df4, x='x1',alpha = 0.4,  kde = True, color =\"yellow\")\n",
    "plt.xlim(0, 90)\n",
    "data_4 =  ax4.lines[0].get_xydata()\n",
    "peak_4 = peak_val(data_4)[0]"
   ]
  },
  {
   "cell_type": "code",
   "execution_count": null,
   "id": "9954d14e-bba6-4590-9da2-a5a57ddf93cd",
   "metadata": {},
   "outputs": [],
   "source": [
    "# Plot the probability density functions using kernel density estimates (KDE)\n",
    "ax5 = sns.histplot(data=df5, x='x1',alpha = 0.4,  kde = True, color =\"green\")\n",
    "plt.xlim(0, 90)\n",
    "data_5 =  ax5.lines[0].get_xydata()\n",
    "peak_5 = peak_val(data_5)[0]"
   ]
  },
  {
   "cell_type": "code",
   "execution_count": null,
   "id": "6e43f270-6cfd-45ce-9476-405fabd8f19b",
   "metadata": {},
   "outputs": [],
   "source": [
    "# Plot the probability density functions using kernel density estimates (KDE)\n",
    "ax6 = sns.histplot(data=df6, x='x1',alpha = 0.4,  kde = True, color =\"pink\")\n",
    "plt.xlim(0, 90)\n",
    "data_6 =  ax6.lines[0].get_xydata()\n",
    "peak_6 = peak_val(data_6)[0]"
   ]
  },
  {
   "cell_type": "code",
   "execution_count": null,
   "id": "cbce8d67-e98c-4127-a3bb-0fa714adc490",
   "metadata": {},
   "outputs": [],
   "source": [
    "# Plot the probability density functions using kernel density estimates (KDE)\n",
    "ax7 = sns.histplot(data=df7, x='x1',alpha = 0.4,  kde = True, color =\"orange\")\n",
    "plt.xlim(0, 90)\n",
    "data_7 =  ax7.lines[0].get_xydata()\n",
    "peak_7 = peak_val(data_7)[0]"
   ]
  },
  {
   "cell_type": "code",
   "execution_count": null,
   "id": "2c345034-bb4a-44f4-b17e-3c42d52e3aae",
   "metadata": {},
   "outputs": [
    {
     "name": "stdout",
     "output_type": "stream",
     "text": [
      "Requirement already satisfied: numpy in c:\\users\\balag\\anaconda3\\envs\\variogram\\lib\\site-packages (1.26.2)\n"
     ]
    }
   ],
   "source": [
    "plt.figure(figsize=(10, 6))\n",
    "sns.histplot(data=df1, x='x1',alpha = 0.45,  kde = True, color =\"blue\", )\n",
    "sns.histplot(data=df2, x='x1',alpha = 0.45,  kde = True, color =\"brown\", )\n",
    "sns.histplot(data=df3, x='x1', alpha = 0.45, kde = True, color =\"black\")\n",
    "sns.histplot(data=df4, x='x1', alpha = 0.45, kde = True,color =\"yellow\")\n",
    "sns.histplot(data=df5, x='x1', alpha = 0.45, kde = True, color =\"green\")\n",
    "sns.histplot(data=df6, x='x1', alpha = 0.45, kde = True,color =\"pink\")\n",
    "sns.histplot(data=df7, x='x1',alpha = 0.45,  kde = True, color =\"orange\")\n",
    "\n",
    "\n",
    "\n",
    "\n",
    "plt.xlim(0, 90)\n",
    "plt.ylim(0, 8000)\n",
    "plt.xlabel('PM$_{2.5}$ Measurement Time (Seconds)')\n",
    "plt.ylabel('Frequency')\n",
    "plt.title('PDF of PM Measurement Time for the Week After it Rained (01/25/2023 - 01/31/2023)')\n",
    "\n",
    "\n",
    "\n",
    "plt.axvline(peak_1, color='blue', linestyle='dashed',)\n",
    "plt.axvline(peak_2, color='brown', linestyle='dashed')\n",
    "plt.axvline(peak_3, color='black', linestyle='dashed')\n",
    "plt.axvline(peak_4, color='yellow', linestyle='dashed',)\n",
    "plt.axvline(peak_5, color='green', linestyle='dashed')\n",
    "plt.axvline(peak_6, color='pink', linestyle='dashed')\n",
    "plt.axvline(peak_7, color='orange', linestyle='dashed',)\n",
    "\n",
    "\n",
    "legend_labels = ['01/25/2023 (Cloudy)', \n",
    "                 '01/26/2023 (Mostly Sunny)',\n",
    "                 '01/27/2023 (Mostly Sunny)',\n",
    "                 '01/28/2023 (Cloudy)',\n",
    "                 '01/29/2023 (Cloudy)',\n",
    "                 '01/30/2023 (Cloudy)',\n",
    "                 '01/31/2023 (Cloudy)',]\n",
    "for i, peak_value in enumerate([peak_1, peak_2, peak_3, peak_4, peak_5, peak_6, peak_7]):\n",
    "    legend_labels[i] += f' (Maximum: {round(peak_value, 2)} seconds)'\n",
    "\n",
    "# Update legend with custom labels\n",
    "plt.legend(labels=legend_labels)\n",
    "\n",
    "# Add the following lines to mark the peaks and set xticks\n",
    "# all_xticks = list(plt.xticks()[0]) + [round(peak_1, 2), round(peak_2, 2), round(peak_3, 2)]\n",
    "plt.xticks(fontsize=10)\n",
    "\n",
    "# for tick in plt.xticks()[-1]:\n",
    "    \n",
    "#     if(tick.get_text() == str(round(peak_1, 2)) or tick.get_text() == str(round(peak_2, 2)) or tick.get_text() == str(round(peak_3, 2)) ):\n",
    "#         tick.set_fontsize(15)\n",
    "plt.savefig(r\"D:\\UTD\\UTDFall2023\\Temporal_Variograms\\firmware\\plots\\Week_After_it_Rained_with_peak_times.png\")\n",
    "plt.show()\n",
    "\n",
    "\n"
   ]
  }
 ],
 "metadata": {
  "kernelspec": {
   "display_name": "Python 3 (ipykernel)",
   "language": "python",
   "name": "python3"
  },
  "language_info": {
   "codemirror_mode": {
    "name": "ipython",
    "version": 3
   },
   "file_extension": ".py",
   "mimetype": "text/x-python",
   "name": "python",
   "nbconvert_exporter": "python",
   "pygments_lexer": "ipython3",
   "version": "3.12.0"
  }
 },
 "nbformat": 4,
 "nbformat_minor": 5
}
